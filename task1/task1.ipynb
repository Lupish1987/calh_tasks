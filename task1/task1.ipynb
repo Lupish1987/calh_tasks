{
 "cells": [
  {
   "cell_type": "code",
   "execution_count": 1,
   "id": "2e0900c5",
   "metadata": {},
   "outputs": [],
   "source": [
    "import requests\n",
    "import xml.etree.ElementTree as ET\n",
    "\n",
    "\n",
    "def task1_solution():\n",
    "    file = open(\"task1_solution.txt\",\"w\")\n",
    "    response = requests.get(\"https://coding-academy.pl/all_customers\")\n",
    "    tree = ET.fromstring(response.content)\n",
    "    \n",
    "    #element = tree.getchildren()\n",
    "    for subelement in list(tree):\n",
    "        file.write(f\"{subelement.text}\\n\")\n",
    "        \n",
    "    file.close()\n",
    "    pass\n",
    "\n",
    "\n",
    "if __name__ == '__main__':\n",
    "    task1_solution()"
   ]
  },
  {
   "cell_type": "code",
   "execution_count": null,
   "id": "aa2ea5b1",
   "metadata": {},
   "outputs": [],
   "source": []
  },
  {
   "cell_type": "code",
   "execution_count": null,
   "id": "d0fca7c3",
   "metadata": {},
   "outputs": [],
   "source": []
  },
  {
   "cell_type": "code",
   "execution_count": null,
   "id": "9e4cabc9",
   "metadata": {},
   "outputs": [],
   "source": []
  }
 ],
 "metadata": {
  "kernelspec": {
   "display_name": "Python 3",
   "language": "python",
   "name": "python3"
  },
  "language_info": {
   "codemirror_mode": {
    "name": "ipython",
    "version": 3
   },
   "file_extension": ".py",
   "mimetype": "text/x-python",
   "name": "python",
   "nbconvert_exporter": "python",
   "pygments_lexer": "ipython3",
   "version": "3.8.8"
  }
 },
 "nbformat": 4,
 "nbformat_minor": 5
}
